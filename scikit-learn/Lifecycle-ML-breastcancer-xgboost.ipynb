{
 "cells": [
  {
   "cell_type": "markdown",
   "metadata": {},
   "source": [
    "<h1><font color=\"#f37626\">[Lifecycle]</font> add_expriment 예제 코드</h1>\n",
    "\n",
    "-----\n",
    "\n",
    "`add_experiment`는 모델링 과정 중 실험 이력으로 저장하고자 하는 모델을 자동으로 accuinsight+ modeler 콘솔 화면에 기록해주는 메소드 입니다.\n",
    "\n",
    "- data: breast cancer data \n",
    "    - label: (1:악성) / (0: 양성)\n",
    "- sklearn 사용\n",
    "- logistic regression\n",
    "---"
   ]
  },
  {
   "cell_type": "markdown",
   "metadata": {},
   "source": [
    "### 1. accuinsight() 객체 생성\n",
    "- sklearn을 사용하므로, ML 모듈의 accuinsight 메소드를 불러와야 함"
   ]
  },
  {
   "cell_type": "code",
   "execution_count": 1,
   "metadata": {},
   "outputs": [],
   "source": [
    "from Accuinsight.Lifecycle.ML import accuinsight\n",
    "\n",
    "accu = accuinsight()"
   ]
  },
  {
   "cell_type": "markdown",
   "metadata": {},
   "source": [
    "#### [optional] 1-(1) alarm 설정 \n",
    "\n",
    "- `send_message()`로 alarm message를 push할 수 있습니다.\n",
    "- `send_message(message = 'your_message')`  \n",
    "\n",
    "- ML Lifecycle의 경우 threshold를 활용한 message push 서비스가 제공되지 않습니다.\n",
    "\n",
    "- `send_message()`의 message 인수는 list 또는 str 형태여야 합니다. 여러 message를 동시에 발송할 땐 list, 단일 message는 str 형태로 입력합니다.\n",
    "- `unset_message()`를 사용하면 등록된 message가 삭제됩니다. "
   ]
  },
  {
   "cell_type": "code",
   "execution_count": 2,
   "metadata": {},
   "outputs": [],
   "source": [
    "accu.send_message(message='[ML-binary-classification-xgboost] 모델 학습 완료')"
   ]
  },
  {
   "cell_type": "markdown",
   "metadata": {},
   "source": [
    "#### [optional] 1-(2) slack 설정\n",
    "\n",
    "- `set_slack()`을 사용하여 특정 slack 채널에도 message를 전달할 수 있습니다. 여러 채널에 발송하고 싶다면, url을 콤마(,)로 구분하여 입력하면 됩니다. message와 유사하게, `unset_slack()`을 사용하면 slack alarm이 해제됩니다.\n",
    "- slack에 message를 전달하려면, 해당 채널 또는 DM의 webhook url이 필요합니다."
   ]
  },
  {
   "cell_type": "code",
   "execution_count": 3,
   "metadata": {},
   "outputs": [],
   "source": [
    "accu.set_slack(hook_url='webhook url')"
   ]
  },
  {
   "cell_type": "markdown",
   "metadata": {},
   "source": [
    "### 2. 모델 구성"
   ]
  },
  {
   "cell_type": "code",
   "execution_count": 3,
   "metadata": {},
   "outputs": [
    {
     "data": {
      "text/plain": [
       "LogisticRegression(C=1.0, class_weight=None, dual=False, fit_intercept=True,\n",
       "                   intercept_scaling=1, l1_ratio=None, max_iter=100,\n",
       "                   multi_class='warn', n_jobs=None, penalty='l2',\n",
       "                   random_state=0, solver='warn', tol=0.0001, verbose=0,\n",
       "                   warm_start=False)"
      ]
     },
     "execution_count": 3,
     "metadata": {},
     "output_type": "execute_result"
    }
   ],
   "source": [
    "import numpy as np\n",
    "from sklearn.datasets import load_breast_cancer\n",
    "from sklearn.model_selection import train_test_split\n",
    "from sklearn.preprocessing import label_binarize\n",
    "from sklearn.linear_model import LogisticRegression\n",
    "\n",
    "# Import dataset\n",
    "cancer = load_breast_cancer()\n",
    "X = cancer.data\n",
    "y = cancer.target\n",
    "\n",
    "# shuffle and split training and test sets\n",
    "X_train, X_test, y_train, y_test = train_test_split(X, y, test_size=.5, random_state=42)\n",
    "\n",
    "logistic = LogisticRegression(random_state = 0)\n",
    "logistic.fit(X_train, y_train)"
   ]
  },
  {
   "cell_type": "code",
   "execution_count": 4,
   "metadata": {},
   "outputs": [
    {
     "data": {
      "text/plain": [
       "{'C': 1.0,\n",
       " 'class_weight': None,\n",
       " 'dual': False,\n",
       " 'fit_intercept': True,\n",
       " 'intercept_scaling': 1,\n",
       " 'l1_ratio': None,\n",
       " 'max_iter': 100,\n",
       " 'multi_class': 'warn',\n",
       " 'n_jobs': None,\n",
       " 'penalty': 'l2',\n",
       " 'random_state': 0,\n",
       " 'solver': 'warn',\n",
       " 'tol': 0.0001,\n",
       " 'verbose': 0,\n",
       " 'warm_start': False}"
      ]
     },
     "execution_count": 4,
     "metadata": {},
     "output_type": "execute_result"
    }
   ],
   "source": [
    "logistic.get_params()"
   ]
  },
  {
   "cell_type": "markdown",
   "metadata": {},
   "source": [
    "### 3. 평가지표 및 예측"
   ]
  },
  {
   "cell_type": "code",
   "execution_count": 5,
   "metadata": {},
   "outputs": [],
   "source": [
    "from sklearn.metrics import accuracy_score, f1_score\n",
    "\n",
    "pred_test = logistic.predict(X_test)"
   ]
  },
  {
   "cell_type": "code",
   "execution_count": 6,
   "metadata": {},
   "outputs": [],
   "source": [
    "accuracy = accuracy_score(y_test, pred_test)\n",
    "f1score = f1_score(y_test, pred_test)"
   ]
  },
  {
   "cell_type": "markdown",
   "metadata": {},
   "source": [
    "### 4. add experiment"
   ]
  },
  {
   "cell_type": "markdown",
   "metadata": {},
   "source": [
    "__Data drift 기능을 사용할 경우, `model_monitor=True` 옵션을 사용하여 피처 중요도를 저장합니다.__  \n",
    "비정형데이터의 경우 사용할 수 없습니다."
   ]
  },
  {
   "cell_type": "code",
   "execution_count": 8,
   "metadata": {},
   "outputs": [],
   "source": [
    "with accu.add_experiment(logistic, X_train, y_train, X_test, y_test, model_monitor=True) as exp:\n",
    "    exp.log_params('max_iter')\n",
    "    exp.log_metrics('Accuracy', accuracy)\n",
    "    exp.log_metrics('F1-score', f1score)\n",
    "    exp.log_tag('binary-breast-cancer-logistic')"
   ]
  },
  {
   "cell_type": "markdown",
   "metadata": {},
   "source": [
    "### 5. 저장된 모델 불러오기\n",
    "- `add_experiment()`를 사용하여 모델의 학습 이력을 Lifecycle에 기록할 경우, 자동으로 모델 파일이 저장됩니다.\n",
    "- 저장된 모델을 불러와 공동 작업자들과 모델을 공유하거나, 모델 재학습을 수행할 수 있습니다.\n",
    "\n",
    "    1. Accuinsight+ workspace list 혹은 해당 모델의 상세화면으로 접속하여 _Experiment_ 중 불러오고자 하는 모델의 __Run name__을 복사합니다.\n",
    "    2. ___utils___에서 `load_model()` 함수를 호출하여 모델을 불러올 수 있습니다."
   ]
  },
  {
   "cell_type": "code",
   "execution_count": 9,
   "metadata": {},
   "outputs": [],
   "source": [
    "from Accuinsight.Lifecycle.utils import load_model\n",
    "\n",
    "loaded = load_model('LogisticRegression-98FAE7BEE24D412DAF2CB2E6E00D0BCC_44')"
   ]
  },
  {
   "cell_type": "code",
   "execution_count": 10,
   "metadata": {},
   "outputs": [
    {
     "data": {
      "text/plain": [
       "array([[ 0.60651942,  0.55577977,  0.32524395, -0.02103228, -0.01494832,\n",
       "        -0.0944371 , -0.14419526, -0.05941119, -0.03624748, -0.00439298,\n",
       "         0.03403868,  0.26351517,  0.10136707, -0.12417901, -0.00175519,\n",
       "        -0.02198481, -0.03251225, -0.00826842, -0.00685513, -0.00163949,\n",
       "         0.68678762, -0.55335594, -0.20996113, -0.0083787 , -0.03342834,\n",
       "        -0.30755839, -0.40193348, -0.11774485, -0.10446085, -0.02446907]])"
      ]
     },
     "execution_count": 10,
     "metadata": {},
     "output_type": "execute_result"
    }
   ],
   "source": [
    "loaded.coef_"
   ]
  }
 ],
 "metadata": {
  "kernelspec": {
   "display_name": "Python 3",
   "language": "python",
   "name": "python3"
  },
  "language_info": {
   "codemirror_mode": {
    "name": "ipython",
    "version": 3
   },
   "file_extension": ".py",
   "mimetype": "text/x-python",
   "name": "python",
   "nbconvert_exporter": "python",
   "pygments_lexer": "ipython3",
   "version": "3.6.8"
  }
 },
 "nbformat": 4,
 "nbformat_minor": 4
}
